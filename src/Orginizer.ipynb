{
 "cells": [
  {
   "cell_type": "markdown",
   "metadata": {},
   "source": [
    "#### Python Script Explanation\n",
    "##### Purpose\n",
    "The provided Python script is designed to traverse through a specified directory, and its subdirectories, and to add a comment line at the top of each `.js` or `.scss` file. This comment contains the relative file path of the file itself. The script ensures that it does not duplicate the comment if it is already present.\n",
    "##### How It Works\n",
    "1. The script uses the `os` module to walk through the directory tree starting from a given root directory.\n",
    "2. It checks each file to see if it ends with `.js` or `.scss`, identifying it as a JavaScript or SCSS file respectively.\n",
    "3. For each file identified, the script reads the content and checks the first line for an existing path comment.\n",
    "4. If the comment does not exist, the script writes the comment line containing the file's relative path at the top of the file, followed by the original content.\n",
    "##### Precautions\n",
    "- The script includes safety checks to prevent duplicate comments.\n"
   ]
  },
  {
   "cell_type": "code",
   "execution_count": 3,
   "metadata": {},
   "outputs": [],
   "source": [
    "import os\n",
    "\n",
    "# Define the root directory you want to start from\n",
    "rootdir = './'\n",
    "\n",
    "def add_comment_to_file(file_path):\n",
    "    # Prepare the comment string\n",
    "    comment_line = f'// Relative file path: {file_path}\\n'\n",
    "\n",
    "    with open(file_path, 'r+') as f:\n",
    "        content = f.readlines()\n",
    "        f.seek(0)\n",
    "        # Check if the comment is already there\n",
    "        if content and content[0].strip() == comment_line.strip():\n",
    "            return  # Comment exists, so we skip this file\n",
    "        f.write(comment_line)\n",
    "        f.writelines(content)  # Write the original content back\n",
    "\n",
    "def add_comments_to_directory(directory):\n",
    "    for item in os.listdir(directory):\n",
    "        path = os.path.join(directory, item)\n",
    "        if os.path.isdir(path):\n",
    "            # It's a directory, recurse into it\n",
    "            add_comments_to_directory(path)\n",
    "        elif path.endswith('.js') or path.endswith('.scss'):\n",
    "            # It's a file, add the comment\n",
    "            add_comment_to_file(path)\n",
    "\n",
    "# Start the recursive function\n",
    "add_comments_to_directory(rootdir)"
   ]
  },
  {
   "cell_type": "markdown",
   "metadata": {},
   "source": []
  },
  {
   "cell_type": "code",
   "execution_count": 4,
   "metadata": {},
   "outputs": [
    {
     "ename": "FileNotFoundError",
     "evalue": "[Errno 2] No such file or directory: '/mnt/data/all_js_code.txt'",
     "output_type": "error",
     "traceback": [
      "\u001b[1;31m---------------------------------------------------------------------------\u001b[0m",
      "\u001b[1;31mFileNotFoundError\u001b[0m                         Traceback (most recent call last)",
      "Cell \u001b[1;32mIn[4], line 26\u001b[0m\n\u001b[0;32m     23\u001b[0m output_file_path \u001b[38;5;241m=\u001b[39m \u001b[38;5;124m\"\u001b[39m\u001b[38;5;124m/mnt/data/all_js_code.txt\u001b[39m\u001b[38;5;124m\"\u001b[39m\n\u001b[0;32m     25\u001b[0m \u001b[38;5;66;03m# Write the contents of all .js files into the output text file\u001b[39;00m\n\u001b[1;32m---> 26\u001b[0m \u001b[38;5;28;01mwith\u001b[39;00m \u001b[38;5;28;43mopen\u001b[39;49m\u001b[43m(\u001b[49m\u001b[43moutput_file_path\u001b[49m\u001b[43m,\u001b[49m\u001b[43m \u001b[49m\u001b[38;5;124;43m\"\u001b[39;49m\u001b[38;5;124;43mw\u001b[39;49m\u001b[38;5;124;43m\"\u001b[39;49m\u001b[43m)\u001b[49m \u001b[38;5;28;01mas\u001b[39;00m outfile:\n\u001b[0;32m     27\u001b[0m     \u001b[38;5;28;01mfor\u001b[39;00m js_file \u001b[38;5;129;01min\u001b[39;00m js_files:\n\u001b[0;32m     28\u001b[0m         \u001b[38;5;28;01mwith\u001b[39;00m \u001b[38;5;28mopen\u001b[39m(js_file, \u001b[38;5;124m\"\u001b[39m\u001b[38;5;124mr\u001b[39m\u001b[38;5;124m\"\u001b[39m) \u001b[38;5;28;01mas\u001b[39;00m infile:\n\u001b[0;32m     29\u001b[0m             \u001b[38;5;66;03m# Write a separator and the file path as a comment\u001b[39;00m\n",
      "File \u001b[1;32mc:\\Users\\wlaa4\\Documents\\threejs-reactjs-website\\.venv\\Lib\\site-packages\\IPython\\core\\interactiveshell.py:324\u001b[0m, in \u001b[0;36m_modified_open\u001b[1;34m(file, *args, **kwargs)\u001b[0m\n\u001b[0;32m    317\u001b[0m \u001b[38;5;28;01mif\u001b[39;00m file \u001b[38;5;129;01min\u001b[39;00m {\u001b[38;5;241m0\u001b[39m, \u001b[38;5;241m1\u001b[39m, \u001b[38;5;241m2\u001b[39m}:\n\u001b[0;32m    318\u001b[0m     \u001b[38;5;28;01mraise\u001b[39;00m \u001b[38;5;167;01mValueError\u001b[39;00m(\n\u001b[0;32m    319\u001b[0m         \u001b[38;5;124mf\u001b[39m\u001b[38;5;124m\"\u001b[39m\u001b[38;5;124mIPython won\u001b[39m\u001b[38;5;124m'\u001b[39m\u001b[38;5;124mt let you open fd=\u001b[39m\u001b[38;5;132;01m{\u001b[39;00mfile\u001b[38;5;132;01m}\u001b[39;00m\u001b[38;5;124m by default \u001b[39m\u001b[38;5;124m\"\u001b[39m\n\u001b[0;32m    320\u001b[0m         \u001b[38;5;124m\"\u001b[39m\u001b[38;5;124mas it is likely to crash IPython. If you know what you are doing, \u001b[39m\u001b[38;5;124m\"\u001b[39m\n\u001b[0;32m    321\u001b[0m         \u001b[38;5;124m\"\u001b[39m\u001b[38;5;124myou can use builtins\u001b[39m\u001b[38;5;124m'\u001b[39m\u001b[38;5;124m open.\u001b[39m\u001b[38;5;124m\"\u001b[39m\n\u001b[0;32m    322\u001b[0m     )\n\u001b[1;32m--> 324\u001b[0m \u001b[38;5;28;01mreturn\u001b[39;00m \u001b[43mio_open\u001b[49m\u001b[43m(\u001b[49m\u001b[43mfile\u001b[49m\u001b[43m,\u001b[49m\u001b[43m \u001b[49m\u001b[38;5;241;43m*\u001b[39;49m\u001b[43margs\u001b[49m\u001b[43m,\u001b[49m\u001b[43m \u001b[49m\u001b[38;5;241;43m*\u001b[39;49m\u001b[38;5;241;43m*\u001b[39;49m\u001b[43mkwargs\u001b[49m\u001b[43m)\u001b[49m\n",
      "\u001b[1;31mFileNotFoundError\u001b[0m: [Errno 2] No such file or directory: '/mnt/data/all_js_code.txt'"
     ]
    }
   ],
   "source": [
    "import os\n",
    "\n",
    "# Sample root directory for demonstration\n",
    "rootdir = './'\n",
    "\n",
    "def gather_js_files(directory, js_files):\n",
    "    for item in os.listdir(directory):\n",
    "        path = os.path.join(directory, item)\n",
    "        if os.path.isdir(path):\n",
    "            # Recursively gather .js files from subdirectories\n",
    "            gather_js_files(path, js_files)\n",
    "        elif path.endswith('.js'):\n",
    "            # Add the .js file path to the list\n",
    "            js_files.append(path)\n",
    "\n",
    "# List to store all the .js file paths\n",
    "js_files = []\n",
    "\n",
    "# Gather .js files starting from the root directory\n",
    "gather_js_files(rootdir, js_files)\n",
    "\n",
    "# Path to the output text file\n",
    "output_file_path = \"./all_js_code.txt\"\n",
    "\n",
    "# Write the contents of all .js files into the output text file\n",
    "with open(output_file_path, \"w\") as outfile:\n",
    "    for js_file in js_files:\n",
    "        with open(js_file, \"r\") as infile:\n",
    "            # Write a separator and the file path as a comment\n",
    "            outfile.write(f\"// Contents of {js_file}\\n\\n\")\n",
    "            # Write the actual content of the .js file\n",
    "            outfile.write(infile.read())\n",
    "            # Write a new line as a separator between files\n",
    "            outfile.write(\"\\n\\n\")\n",
    "\n",
    "output_file_path\n"
   ]
  },
  {
   "cell_type": "code",
   "execution_count": null,
   "metadata": {},
   "outputs": [],
   "source": []
  }
 ],
 "metadata": {
  "kernelspec": {
   "display_name": ".venv",
   "language": "python",
   "name": "python3"
  },
  "language_info": {
   "codemirror_mode": {
    "name": "ipython",
    "version": 3
   },
   "file_extension": ".py",
   "mimetype": "text/x-python",
   "name": "python",
   "nbconvert_exporter": "python",
   "pygments_lexer": "ipython3",
   "version": "3.11.6"
  }
 },
 "nbformat": 4,
 "nbformat_minor": 2
}
